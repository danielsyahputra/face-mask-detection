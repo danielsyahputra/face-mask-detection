{
  "nbformat": 4,
  "nbformat_minor": 0,
  "metadata": {
    "colab": {
      "name": "Training",
      "provenance": [],
      "collapsed_sections": [],
      "authorship_tag": "ABX9TyPatLMiCYlkJBIJ6xiRqMW9",
      "include_colab_link": true
    },
    "kernelspec": {
      "name": "python3",
      "display_name": "Python 3"
    },
    "language_info": {
      "name": "python"
    }
  },
  "cells": [
    {
      "cell_type": "markdown",
      "metadata": {
        "id": "view-in-github",
        "colab_type": "text"
      },
      "source": [
        "<a href=\"https://colab.research.google.com/github/danielsyahputra13/face-mask-detection/blob/master/notebooks/Training.ipynb\" target=\"_parent\"><img src=\"https://colab.research.google.com/assets/colab-badge.svg\" alt=\"Open In Colab\"/></a>"
      ]
    },
    {
      "cell_type": "markdown",
      "source": [
        "# Face Mask Detection"
      ],
      "metadata": {
        "id": "KP0JF_IG2oJy"
      }
    },
    {
      "cell_type": "markdown",
      "source": [
        "## Import Libraries and Data"
      ],
      "metadata": {
        "id": "GlZ68hWh2rpQ"
      }
    },
    {
      "cell_type": "code",
      "execution_count": null,
      "metadata": {
        "colab": {
          "base_uri": "https://localhost:8080/"
        },
        "id": "eLFLtZIi2IOZ",
        "outputId": "04e82c48-9c88-4546-b70f-c8d667c4230d"
      },
      "outputs": [
        {
          "output_type": "stream",
          "name": "stdout",
          "text": [
            "Looking in indexes: https://pypi.org/simple, https://us-python.pkg.dev/colab-wheels/public/simple/\n",
            "Requirement already satisfied: gdown in /usr/local/lib/python3.7/dist-packages (4.5.1)\n",
            "Requirement already satisfied: requests[socks] in /usr/local/lib/python3.7/dist-packages (from gdown) (2.23.0)\n",
            "Requirement already satisfied: tqdm in /usr/local/lib/python3.7/dist-packages (from gdown) (4.64.0)\n",
            "Requirement already satisfied: beautifulsoup4 in /usr/local/lib/python3.7/dist-packages (from gdown) (4.6.3)\n",
            "Requirement already satisfied: six in /usr/local/lib/python3.7/dist-packages (from gdown) (1.15.0)\n",
            "Requirement already satisfied: filelock in /usr/local/lib/python3.7/dist-packages (from gdown) (3.7.1)\n",
            "Requirement already satisfied: urllib3!=1.25.0,!=1.25.1,<1.26,>=1.21.1 in /usr/local/lib/python3.7/dist-packages (from requests[socks]->gdown) (1.24.3)\n",
            "Requirement already satisfied: idna<3,>=2.5 in /usr/local/lib/python3.7/dist-packages (from requests[socks]->gdown) (2.10)\n",
            "Requirement already satisfied: certifi>=2017.4.17 in /usr/local/lib/python3.7/dist-packages (from requests[socks]->gdown) (2022.6.15)\n",
            "Requirement already satisfied: chardet<4,>=3.0.2 in /usr/local/lib/python3.7/dist-packages (from requests[socks]->gdown) (3.0.4)\n",
            "Requirement already satisfied: PySocks!=1.5.7,>=1.5.6 in /usr/local/lib/python3.7/dist-packages (from requests[socks]->gdown) (1.7.1)\n"
          ]
        }
      ],
      "source": [
        "!pip install --upgrade --no-cache-dir gdown\n",
        "\n",
        "import zipfile\n",
        "import os\n",
        "from tensorflow.keras.preprocessing.image import ImageDataGenerator\n",
        "from tensorflow.keras.optimizers import RMSprop\n",
        "import tensorflow as tf\n",
        "import matplotlib.pyplot as plt"
      ]
    },
    {
      "cell_type": "code",
      "source": [
        "!git clone https://github.com/prajnasb/observations"
      ],
      "metadata": {
        "colab": {
          "base_uri": "https://localhost:8080/"
        },
        "id": "dcIKErZs8n_j",
        "outputId": "39a5acda-0478-4fae-bf65-80387603a6db"
      },
      "execution_count": null,
      "outputs": [
        {
          "output_type": "stream",
          "name": "stdout",
          "text": [
            "fatal: destination path 'observations' already exists and is not an empty directory.\n"
          ]
        }
      ]
    },
    {
      "cell_type": "code",
      "source": [
        "SOURCE_PATH = \"/content/observations/experiements/dest_folder\"\n",
        "TRAIN_DIR = os.path.join(SOURCE_PATH, \"train\")\n",
        "VAL_DIR = os.path.join(SOURCE_PATH, \"val\")"
      ],
      "metadata": {
        "id": "jfOCSDkc6WCm"
      },
      "execution_count": null,
      "outputs": []
    },
    {
      "cell_type": "markdown",
      "source": [
        "## EDA"
      ],
      "metadata": {
        "id": "gW_4-dyu9ZTV"
      }
    },
    {
      "cell_type": "code",
      "source": [
        "TRAIN_MASK_DIR = os.path.join(TRAIN_DIR, \"with_mask\")\n",
        "TRAIN_WITHOUT_MASK_DIR = os.path.join(TRAIN_DIR, \"without_mask\")\n",
        "VAL_MASK_DIR = os.path.join(VAL_DIR, 'with_mask')\n",
        "VAL_WITHOUG_MASK_DIR = os.path.join(VAL_DIR, 'without_mask')"
      ],
      "metadata": {
        "id": "qrENFjay9nyi"
      },
      "execution_count": null,
      "outputs": []
    },
    {
      "cell_type": "code",
      "source": [
        "print(f\"There are {len(os.listdir(TRAIN_MASK_DIR))} images of with facemask for training\")\n",
        "print(f\"There are {len(os.listdir(TRAIN_WITHOUT_MASK_DIR))} images of without facemask for training\")\n",
        "print(f\"There are {len(os.listdir(VAL_MASK_DIR))} images of with facemask for validation\")\n",
        "print(f\"There are {len(os.listdir(VAL_WITHOUG_MASK_DIR))} images of without facemask for training\")"
      ],
      "metadata": {
        "colab": {
          "base_uri": "https://localhost:8080/"
        },
        "id": "S84c8H339Ruv",
        "outputId": "009d060d-196a-44bf-e65c-f2862011cca3"
      },
      "execution_count": null,
      "outputs": [
        {
          "output_type": "stream",
          "name": "stdout",
          "text": [
            "There are 658 images of with facemask for training\n",
            "There are 657 images of without facemask for training\n",
            "There are 71 images of with facemask for validation\n",
            "There are 71 images of without facemask for training\n"
          ]
        }
      ]
    },
    {
      "cell_type": "markdown",
      "source": [
        "## Training"
      ],
      "metadata": {
        "id": "sx8rs7hy-axK"
      }
    },
    {
      "cell_type": "code",
      "source": [
        "def train_val_generators(TRAIN_DIR, VAL_DIR):\n",
        "  train_datagen = ImageDataGenerator(rescale=1./255,\n",
        "                                     rotation_range=40,\n",
        "                                     width_shift_range=0.2,\n",
        "                                     height_shift_range=0.2,\n",
        "                                     shear_range=0.2,\n",
        "                                     zoom_range=0.2,\n",
        "                                     horizontal_flip=True,\n",
        "                                     fill_mode='nearest')\n",
        "  \n",
        "  train_generator = train_datagen.flow_from_directory(directory=TRAIN_DIR,\n",
        "                                                      batch_size=32,\n",
        "                                                      class_mode='categorical',\n",
        "                                                      target_size=(150, 150))\n",
        "  \n",
        "  validation_datagen = ImageDataGenerator(rescale=1./255,\n",
        "                                          rotation_range=40,\n",
        "                                          width_shift_range=0.2,\n",
        "                                          height_shift_range=0.2,\n",
        "                                          shear_range=0.2,\n",
        "                                          zoom_range=0.2,\n",
        "                                          horizontal_flip=True,\n",
        "                                          fill_mode='nearest')\n",
        "\n",
        "  validation_generator = validation_datagen.flow_from_directory(directory=VAL_DIR,\n",
        "                                                                batch_size=32,\n",
        "                                                                class_mode='categorical',\n",
        "                                                                target_size=(150, 150))\n",
        "  return train_generator, validation_generator"
      ],
      "metadata": {
        "id": "iffPmHgn-LjM"
      },
      "execution_count": null,
      "outputs": []
    },
    {
      "cell_type": "code",
      "source": [
        "train_generator, validation_generator = train_val_generators(TRAIN_DIR, VAL_DIR)"
      ],
      "metadata": {
        "colab": {
          "base_uri": "https://localhost:8080/"
        },
        "id": "fT1BZNxw_lov",
        "outputId": "2eecdc3c-ef4c-4213-f1db-2d68273cec1c"
      },
      "execution_count": null,
      "outputs": [
        {
          "output_type": "stream",
          "name": "stdout",
          "text": [
            "Found 1315 images belonging to 2 classes.\n",
            "Found 142 images belonging to 2 classes.\n"
          ]
        }
      ]
    },
    {
      "cell_type": "code",
      "source": [
        "def create_model():\n",
        "  model = tf.keras.models.Sequential([ \n",
        "      tf.keras.layers.Conv2D(32, (3,3), activation='relu', input_shape=(150,150,3)),\n",
        "      tf.keras.layers.MaxPooling2D(2,2),\n",
        "      tf.keras.layers.Conv2D(64, (3,3), activation='relu'),\n",
        "      tf.keras.layers.MaxPooling2D(2,2),\n",
        "      tf.keras.layers.Conv2D(64, (3,3), activation='relu'),\n",
        "      tf.keras.layers.MaxPooling2D(2,2),\n",
        "      # Deep Neural Networks\n",
        "      tf.keras.layers.Flatten(),\n",
        "      tf.keras.layers.Dense(512, activation='relu'),\n",
        "      tf.keras.layers.Dense(2, activation='softmax')\n",
        "  ])\n",
        "\n",
        "  \n",
        "  model.compile(optimizer='adam',\n",
        "                loss='binary_crossentropy',\n",
        "                metrics=['accuracy']) \n",
        "    \n",
        "  return model"
      ],
      "metadata": {
        "id": "8iElcwO3_phZ"
      },
      "execution_count": null,
      "outputs": []
    },
    {
      "cell_type": "code",
      "source": [
        "model = create_model()\n",
        "\n",
        "history = model.fit(train_generator,\n",
        "                    epochs=15,\n",
        "                    verbose=1,\n",
        "                    validation_data=validation_generator)"
      ],
      "metadata": {
        "colab": {
          "base_uri": "https://localhost:8080/"
        },
        "id": "AuB78bJDAFJn",
        "outputId": "efc2e3bc-b1d1-4240-c4a5-e128422fdb78"
      },
      "execution_count": null,
      "outputs": [
        {
          "output_type": "stream",
          "name": "stdout",
          "text": [
            "Epoch 1/15\n",
            "42/42 [==============================] - 60s 1s/step - loss: 0.7810 - accuracy: 0.5247 - val_loss: 0.6086 - val_accuracy: 0.6972\n",
            "Epoch 2/15\n",
            "42/42 [==============================] - 58s 1s/step - loss: 0.4557 - accuracy: 0.7901 - val_loss: 0.3195 - val_accuracy: 0.8732\n",
            "Epoch 3/15\n",
            "42/42 [==============================] - 58s 1s/step - loss: 0.3172 - accuracy: 0.8875 - val_loss: 0.2181 - val_accuracy: 0.8803\n",
            "Epoch 4/15\n",
            "42/42 [==============================] - 58s 1s/step - loss: 0.2707 - accuracy: 0.8981 - val_loss: 0.1362 - val_accuracy: 0.9648\n",
            "Epoch 5/15\n",
            "42/42 [==============================] - 58s 1s/step - loss: 0.2245 - accuracy: 0.9171 - val_loss: 0.1250 - val_accuracy: 0.9859\n",
            "Epoch 6/15\n",
            "42/42 [==============================] - 58s 1s/step - loss: 0.2089 - accuracy: 0.9217 - val_loss: 0.1051 - val_accuracy: 0.9718\n",
            "Epoch 7/15\n",
            "42/42 [==============================] - 58s 1s/step - loss: 0.2039 - accuracy: 0.9202 - val_loss: 0.2369 - val_accuracy: 0.9014\n",
            "Epoch 8/15\n",
            "42/42 [==============================] - 58s 1s/step - loss: 0.2018 - accuracy: 0.9323 - val_loss: 0.1432 - val_accuracy: 0.9437\n",
            "Epoch 9/15\n",
            "42/42 [==============================] - 58s 1s/step - loss: 0.1675 - accuracy: 0.9354 - val_loss: 0.0907 - val_accuracy: 0.9718\n",
            "Epoch 10/15\n",
            "42/42 [==============================] - 58s 1s/step - loss: 0.1318 - accuracy: 0.9536 - val_loss: 0.0685 - val_accuracy: 0.9789\n",
            "Epoch 11/15\n",
            "42/42 [==============================] - 58s 1s/step - loss: 0.1163 - accuracy: 0.9589 - val_loss: 0.0378 - val_accuracy: 0.9859\n",
            "Epoch 12/15\n",
            "42/42 [==============================] - 58s 1s/step - loss: 0.1283 - accuracy: 0.9529 - val_loss: 0.0389 - val_accuracy: 0.9930\n",
            "Epoch 13/15\n",
            "42/42 [==============================] - 58s 1s/step - loss: 0.1185 - accuracy: 0.9597 - val_loss: 0.0345 - val_accuracy: 1.0000\n",
            "Epoch 14/15\n",
            "42/42 [==============================] - 58s 1s/step - loss: 0.1786 - accuracy: 0.9346 - val_loss: 0.0737 - val_accuracy: 0.9859\n",
            "Epoch 15/15\n",
            "42/42 [==============================] - 58s 1s/step - loss: 0.2106 - accuracy: 0.9247 - val_loss: 0.1752 - val_accuracy: 0.9437\n"
          ]
        }
      ]
    },
    {
      "cell_type": "code",
      "source": [
        "def plot_history(history):\n",
        "  #-----------------------------------------------------------\n",
        "  # Retrieve a list of list results on training and test data\n",
        "  # sets for each training epoch\n",
        "  #-----------------------------------------------------------\n",
        "  acc=history.history['accuracy']\n",
        "  val_acc=history.history['val_accuracy']\n",
        "  loss=history.history['loss']\n",
        "  val_loss=history.history['val_loss']\n",
        "\n",
        "  epochs=range(len(acc)) # Get number of epochs\n",
        "\n",
        "  #------------------------------------------------\n",
        "  # Plot training and validation accuracy per epoch\n",
        "  #------------------------------------------------\n",
        "  plt.plot(epochs, acc, 'r', \"Training Accuracy\")\n",
        "  plt.plot(epochs, val_acc, 'b', \"Validation Accuracy\")\n",
        "  plt.title('Training and validation accuracy')\n",
        "  plt.show()\n",
        "  print(\"\")\n",
        "\n",
        "  #------------------------------------------------\n",
        "  # Plot training and validation loss per epoch\n",
        "  #------------------------------------------------\n",
        "  plt.plot(epochs, loss, 'r', \"Training Loss\")\n",
        "  plt.plot(epochs, val_loss, 'b', \"Validation Loss\")\n",
        "  plt.show()"
      ],
      "metadata": {
        "id": "09N0ytPDAKaw"
      },
      "execution_count": null,
      "outputs": []
    },
    {
      "cell_type": "code",
      "source": [
        "plot_history(history)"
      ],
      "metadata": {
        "colab": {
          "base_uri": "https://localhost:8080/",
          "height": 547
        },
        "id": "Qt0jSDA4ASOv",
        "outputId": "8c972d9a-962c-4695-dad2-dac3d830dd29"
      },
      "execution_count": null,
      "outputs": [
        {
          "output_type": "display_data",
          "data": {
            "text/plain": [
              "<Figure size 432x288 with 1 Axes>"
            ],
            "image/png": "[encoded data removed]"
          },
          "metadata": {
            "needs_background": "light"
          }
        },
        {
          "output_type": "stream",
          "name": "stdout",
          "text": [
            "\n"
          ]
        },
        {
          "output_type": "display_data",
          "data": {
            "text/plain": [
              "<Figure size 432x288 with 1 Axes>"
            ],
            "image/png": "[encoded data removed]"
          },
          "metadata": {
            "needs_background": "light"
          }
        }
      ]
    },
    {
      "cell_type": "code",
      "source": [
        "model.save(\"facemask_model.h5\")"
      ],
      "metadata": {
        "id": "f2-RUQioDsbX"
      },
      "execution_count": null,
      "outputs": []
    },
    {
      "cell_type": "code",
      "source": [
        "model = tf.keras.models.load_model(\"facemask_model.h5\")"
      ],
      "metadata": {
        "id": "1eP1qyO5H-IL"
      },
      "execution_count": null,
      "outputs": []
    },
    {
      "cell_type": "code",
      "source": [
        "model.predict(validation_generator)"
      ],
      "metadata": {
        "colab": {
          "base_uri": "https://localhost:8080/"
        },
        "id": "y4GfWGWPUAY1",
        "outputId": "eff9c024-0587-481b-8beb-e9d905d79f6c"
      },
      "execution_count": null,
      "outputs": [
        {
          "output_type": "execute_result",
          "data": {
            "text/plain": [
              "array([[9.9999988e-01, 1.3662101e-07],\n",
              "       [6.7973059e-07, 9.9999928e-01],\n",
              "       [1.0780492e-06, 9.9999893e-01],\n",
              "       [8.6272288e-05, 9.9991369e-01],\n",
              "       [5.9076356e-06, 9.9999404e-01],\n",
              "       [9.9999785e-01, 2.1326834e-06],\n",
              "       [4.7304334e-06, 9.9999523e-01],\n",
              "       [8.7096829e-05, 9.9991286e-01],\n",
              "       [6.1952737e-03, 9.9380469e-01],\n",
              "       [6.3137621e-01, 3.6862379e-01],\n",
              "       [6.3086907e-07, 9.9999940e-01],\n",
              "       [9.9515945e-01, 4.8405742e-03],\n",
              "       [3.7522019e-05, 9.9996245e-01],\n",
              "       [4.9570512e-02, 9.5042956e-01],\n",
              "       [1.8462142e-06, 9.9999821e-01],\n",
              "       [3.2846088e-04, 9.9967158e-01],\n",
              "       [6.6977873e-02, 9.3302214e-01],\n",
              "       [8.4803520e-07, 9.9999917e-01],\n",
              "       [9.9918598e-01, 8.1397296e-04],\n",
              "       [9.9999607e-01, 3.9818897e-06],\n",
              "       [8.0296510e-01, 1.9703491e-01],\n",
              "       [2.9628742e-07, 9.9999976e-01],\n",
              "       [9.9633431e-01, 3.6656971e-03],\n",
              "       [9.9479067e-01, 5.2093808e-03],\n",
              "       [9.9960822e-01, 3.9180045e-04],\n",
              "       [9.9999750e-01, 2.4742408e-06],\n",
              "       [9.9953163e-01, 4.6835016e-04],\n",
              "       [2.6805557e-05, 9.9997318e-01],\n",
              "       [9.9633491e-01, 3.6651120e-03],\n",
              "       [6.2587438e-04, 9.9937409e-01],\n",
              "       [4.2800964e-03, 9.9571997e-01],\n",
              "       [2.3329644e-06, 9.9999762e-01],\n",
              "       [9.9994695e-01, 5.3029042e-05],\n",
              "       [9.9999928e-01, 7.1418134e-07],\n",
              "       [1.3088631e-05, 9.9998689e-01],\n",
              "       [6.0901151e-08, 9.9999988e-01],\n",
              "       [9.9995983e-01, 4.0153885e-05],\n",
              "       [6.9116431e-05, 9.9993086e-01],\n",
              "       [7.2410982e-04, 9.9927586e-01],\n",
              "       [9.9984920e-01, 1.5081398e-04],\n",
              "       [3.6536127e-01, 6.3463873e-01],\n",
              "       [8.5862446e-08, 9.9999988e-01],\n",
              "       [1.1812319e-06, 9.9999881e-01],\n",
              "       [9.9999952e-01, 4.7782635e-07],\n",
              "       [3.8016029e-02, 9.6198398e-01],\n",
              "       [2.4273199e-06, 9.9999762e-01],\n",
              "       [9.9327856e-01, 6.7213844e-03],\n",
              "       [5.0371206e-01, 4.9628788e-01],\n",
              "       [9.9843365e-01, 1.5663407e-03],\n",
              "       [7.7432705e-06, 9.9999225e-01],\n",
              "       [4.5972397e-03, 9.9540269e-01],\n",
              "       [4.7707194e-01, 5.2292806e-01],\n",
              "       [3.3820099e-03, 9.9661797e-01],\n",
              "       [7.6339144e-05, 9.9992371e-01],\n",
              "       [9.9998939e-01, 1.0577329e-05],\n",
              "       [1.1673528e-03, 9.9883264e-01],\n",
              "       [9.9507314e-01, 4.9268687e-03],\n",
              "       [5.9052116e-01, 4.0947890e-01],\n",
              "       [1.9787196e-06, 9.9999797e-01],\n",
              "       [9.9964774e-01, 3.5225874e-04],\n",
              "       [5.9284188e-04, 9.9940717e-01],\n",
              "       [9.9999976e-01, 1.8074984e-07],\n",
              "       [3.3517274e-06, 9.9999666e-01],\n",
              "       [8.8067998e-07, 9.9999917e-01],\n",
              "       [9.9592674e-01, 4.0733209e-03],\n",
              "       [2.1311686e-04, 9.9978691e-01],\n",
              "       [9.9999976e-01, 2.7619237e-07],\n",
              "       [9.9999988e-01, 1.1333993e-07],\n",
              "       [1.4264631e-07, 9.9999988e-01],\n",
              "       [9.9994433e-01, 5.5707209e-05],\n",
              "       [3.8895568e-08, 1.0000000e+00],\n",
              "       [2.0743771e-03, 9.9792564e-01],\n",
              "       [8.6468881e-06, 9.9999130e-01],\n",
              "       [9.9998581e-01, 1.4216586e-05],\n",
              "       [2.6684509e-05, 9.9997330e-01],\n",
              "       [5.6814537e-07, 9.9999940e-01],\n",
              "       [3.9138344e-05, 9.9996090e-01],\n",
              "       [9.6981937e-01, 3.0180583e-02],\n",
              "       [8.0539554e-01, 1.9460443e-01],\n",
              "       [5.5476128e-05, 9.9994457e-01],\n",
              "       [7.7061995e-04, 9.9922943e-01],\n",
              "       [9.9920696e-01, 7.9306267e-04],\n",
              "       [9.9656183e-01, 3.4381445e-03],\n",
              "       [2.7938142e-05, 9.9997211e-01],\n",
              "       [3.6615123e-07, 9.9999964e-01],\n",
              "       [9.9888974e-01, 1.1102204e-03],\n",
              "       [3.6767055e-06, 9.9999630e-01],\n",
              "       [1.5873456e-04, 9.9984121e-01],\n",
              "       [8.6503172e-07, 9.9999917e-01],\n",
              "       [1.7461211e-06, 9.9999821e-01],\n",
              "       [9.9455196e-01, 5.4480657e-03],\n",
              "       [9.9995375e-01, 4.6297726e-05],\n",
              "       [9.9964702e-01, 3.5293910e-04],\n",
              "       [7.5972324e-08, 9.9999988e-01],\n",
              "       [6.9035318e-06, 9.9999309e-01],\n",
              "       [2.0475247e-06, 9.9999797e-01],\n",
              "       [9.9998200e-01, 1.7957076e-05],\n",
              "       [9.8433059e-01, 1.5669378e-02],\n",
              "       [6.0451239e-01, 3.9548761e-01],\n",
              "       [5.9921396e-01, 4.0078607e-01],\n",
              "       [5.2137597e-07, 9.9999952e-01],\n",
              "       [6.7841988e-08, 9.9999988e-01],\n",
              "       [9.8433983e-01, 1.5660120e-02],\n",
              "       [9.9998271e-01, 1.7267335e-05],\n",
              "       [6.3444604e-06, 9.9999368e-01],\n",
              "       [9.9977869e-01, 2.2129081e-04],\n",
              "       [9.8946170e-05, 9.9990106e-01],\n",
              "       [9.9548668e-01, 4.5133610e-03],\n",
              "       [9.9726069e-01, 2.7392884e-03],\n",
              "       [9.9995720e-01, 4.2757052e-05],\n",
              "       [9.7183394e-01, 2.8166089e-02],\n",
              "       [1.1915815e-05, 9.9998808e-01],\n",
              "       [9.8668855e-01, 1.3311412e-02],\n",
              "       [2.7563516e-05, 9.9997246e-01],\n",
              "       [9.9811804e-01, 1.8820257e-03],\n",
              "       [5.0450712e-08, 1.0000000e+00],\n",
              "       [9.9999213e-01, 7.8365174e-06],\n",
              "       [1.3181026e-04, 9.9986815e-01],\n",
              "       [9.5561510e-01, 4.4384923e-02],\n",
              "       [8.7558603e-01, 1.2441393e-01],\n",
              "       [9.9999726e-01, 2.6946443e-06],\n",
              "       [9.8957378e-01, 1.0426276e-02],\n",
              "       [9.9139684e-01, 8.6031305e-03],\n",
              "       [2.7900891e-05, 9.9997211e-01],\n",
              "       [5.8694950e-05, 9.9994135e-01],\n",
              "       [6.5132468e-07, 9.9999940e-01],\n",
              "       [9.0163624e-08, 9.9999988e-01],\n",
              "       [6.4416176e-06, 9.9999356e-01],\n",
              "       [9.9994862e-01, 5.1327646e-05],\n",
              "       [9.9983203e-01, 1.6789093e-04],\n",
              "       [9.9923062e-01, 7.6935050e-04],\n",
              "       [2.1618429e-04, 9.9978381e-01],\n",
              "       [9.4096828e-01, 5.9031684e-02],\n",
              "       [3.1992995e-06, 9.9999678e-01],\n",
              "       [9.9953020e-01, 4.6981883e-04],\n",
              "       [9.9752647e-01, 2.4735266e-03],\n",
              "       [9.3401778e-01, 6.5982200e-02],\n",
              "       [2.5803063e-08, 1.0000000e+00],\n",
              "       [7.6359612e-01, 2.3640387e-01],\n",
              "       [4.9809396e-01, 5.0190598e-01],\n",
              "       [1.8971722e-06, 9.9999809e-01],\n",
              "       [8.2869725e-08, 9.9999988e-01]], dtype=float32)"
            ]
          },
          "metadata": {},
          "execution_count": 65
        }
      ]
    },
    {
      "cell_type": "code",
      "source": [
        ""
      ],
      "metadata": {
        "id": "aXqJVwEBUHWT"
      },
      "execution_count": null,
      "outputs": []
    }
  ]
}